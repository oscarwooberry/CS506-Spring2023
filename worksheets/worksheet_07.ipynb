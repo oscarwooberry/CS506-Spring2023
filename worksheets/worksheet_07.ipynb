{
 "cells": [
  {
   "cell_type": "markdown",
   "metadata": {},
   "source": [
    "# Worksheet 07\n",
    "\n",
    "Name:  Yicun Wu\n",
    "UID: U60263210\n",
    "\n",
    "### Topics\n",
    "\n",
    "- Soft Clustering\n",
    "- Clustering Aggregation\n",
    "\n",
    "### Probability Review\n",
    "\n",
    "Read through [the following](https://medium.com/@gallettilance/overview-of-probability-3272b72c82c8)\n",
    "\n",
    "### Soft Clustering\n",
    "\n",
    "We generate 10 data points that come from a normal distribution with mean 5 and variance 1."
   ]
  },
  {
   "cell_type": "code",
   "execution_count": 10,
   "metadata": {},
   "outputs": [
    {
     "name": "stdout",
     "output_type": "stream",
     "text": [
      "[3.6349588825330574, 6.252892940862441, 4.155284712829086, 5.388165880635526, 4.443819894473208, 5.869001012973493, 4.763086080669089, 4.603268332897948, 3.259856754208278, 5.648334896680342]\n"
     ]
    }
   ],
   "source": [
    "import random\n",
    "import numpy as np\n",
    "from sklearn.cluster import KMeans\n",
    "\n",
    "mean = 5\n",
    "stdev = 1\n",
    "\n",
    "c1 = np.random.normal(mean, stdev, 10).tolist()\n",
    "print(c1)"
   ]
  },
  {
   "cell_type": "markdown",
   "metadata": {},
   "source": [
    "a) Generate 10 more data points, this time coming from a normal distribution with mean 8 and variance 1."
   ]
  },
  {
   "cell_type": "code",
   "execution_count": 11,
   "metadata": {},
   "outputs": [
    {
     "name": "stdout",
     "output_type": "stream",
     "text": [
      "[9.667321968979335, 8.416397380484055, 6.170954262070578, 10.557557338008836, 8.564256757144406, 7.28518553893374, 8.764953380233317, 7.147047230205504, 8.8926218004438, 8.842894108752482]\n"
     ]
    }
   ],
   "source": [
    "c2 = np.random.normal( 8 , 1 , 10).tolist()\n",
    "print(c2)"
   ]
  },
  {
   "cell_type": "markdown",
   "metadata": {},
   "source": [
    "b) Flip a fair coin 10 times. If the coin lands on H, then pick the last data point of `c1` and remove it from `c1`, if T then pick the last data point from `c2` and remove it from `c2`. Add these 10 points to a list called `data`."
   ]
  },
  {
   "cell_type": "code",
   "execution_count": 12,
   "metadata": {},
   "outputs": [
    {
     "name": "stdout",
     "output_type": "stream",
     "text": [
      "[5.648334896680342, 3.259856754208278, 8.842894108752482, 8.8926218004438, 4.603268332897948, 4.763086080669089, 5.869001012973493, 7.147047230205504, 4.443819894473208, 5.388165880635526]\n",
      "[3.6349588825330574, 6.252892940862441, 4.155284712829086]\n"
     ]
    }
   ],
   "source": [
    "data = []\n",
    "for i in range(10):\n",
    "    # flip coin\n",
    "    coin_output = random.choice([0, 1])\n",
    "    if coin_output == 0:\n",
    "        p1 = c1.pop()\n",
    "        data.append(p1)\n",
    "    else:\n",
    "        p2 = c2.pop()\n",
    "        data.append(p2)\n",
    "print(data)"
   ]
  },
  {
   "cell_type": "markdown",
   "metadata": {},
   "source": [
    "c) This `data` is a Gaussian Mixture Distribution with 2 mixture components. Over the next few questions we will walk through the GMM algorithm to see if we can uncover the parameters we used to generate this data. First, please list all these parameters of the GMM that created `data` and the values we know they have."
   ]
  },
  {
   "cell_type": "markdown",
   "metadata": {},
   "source": [
    "Number of components: 2 \n",
    "\n",
    "Mean of component 1\n",
    "\n",
    "Mean of component 2\n",
    "\n",
    "Covariance matrix of both components"
   ]
  },
  {
   "cell_type": "markdown",
   "metadata": {},
   "source": [
    "d) Let's assume there are two mixture components (note: we could plot the data and make the observation that there are two clusters). The EM algorithm asks us to start with a random `mean_j`, `variance_j`, `P(C_j)` for each component j. One method we could use to find sensible values for these is to apply K means with k=2 here.\n",
    "\n",
    "1. the centroids would be the estimates of the `mean_j`\n",
    "2. the intra-cluster variance could be the estimate of `variance_j`\n",
    "3. the proportion of points in each cluster could be the estimate of `P(C_j)`\n",
    "\n",
    "Go through this process and list the parameter estimates it gives. Are they close or far from the true values?"
   ]
  },
  {
   "cell_type": "code",
   "execution_count": 17,
   "metadata": {},
   "outputs": [
    {
     "name": "stdout",
     "output_type": "stream",
     "text": [
      "[5.648334896680342, 3.259856754208278, 4.603268332897948, 4.763086080669089, 5.869001012973493, 4.443819894473208, 5.388165880635526]\n",
      "[8.842894108752482, 8.8926218004438, 7.147047230205504]\n",
      "P(C_1) = 0.7,  P(C_2) = 0.3\n",
      "mean_1 = 4.853647550362554,  mean_2 = 8.294187713133928\n",
      "var_1 = 0.6753142028000719,  var_2 = 0.6583777843401207\n"
     ]
    }
   ],
   "source": [
    "kmeans = KMeans(2, init='k-means++').fit(X=np.array(data).reshape(-1, 1))\n",
    "\n",
    "c1 = [x[0] for x in filter(lambda x: x[1] == 0, zip(data, kmeans.labels_))]\n",
    "print(c1)\n",
    "c2 = [x[0] for x in filter(lambda x: x[1] == 1, zip(data, kmeans.labels_))]\n",
    "print(c2)\n",
    "\n",
    "prob_c = [ len(c1) / (len(c1) + len(c2)) , len(c2) / (len(c1) + len(c2))]\n",
    "mean = [ sum(c1)/len(c1) , sum(c2)/len(c2)]\n",
    "var = [ sum(map(lambda x : (x - mean[0])**2, c1)) / len(c1) , sum(map(lambda x : (x - mean[1])**2, c2))/len(c2)]\n",
    "\n",
    "print(\"P(C_1) = \" + str(prob_c[0]) + \",  P(C_2) = \" + str(prob_c[1]))\n",
    "print(\"mean_1 = \" + str(mean[0]) + \",  mean_2 = \" + str(mean[1]))\n",
    "print(\"var_1 = \" + str(var[0]) + \",  var_2 = \" + str(var[1]))"
   ]
  },
  {
   "cell_type": "markdown",
   "metadata": {},
   "source": [
    "They are pretty close to each other"
   ]
  },
  {
   "cell_type": "markdown",
   "metadata": {},
   "source": [
    "e) For each data point, compute `P(C_j | X_i)`. Comment on which cluster you think each point belongs to based on the estimated probabilities. How does that compare to the truth?"
   ]
  },
  {
   "cell_type": "code",
   "execution_count": 18,
   "metadata": {},
   "outputs": [
    {
     "name": "stdout",
     "output_type": "stream",
     "text": [
      "point =  5.648334896680342\n",
      "probability of observing that point if it came from cluster 0 =  0.29559902281548667\n",
      "probability of observing that point if it came from cluster 1 =  0.00018855511357544747\n",
      "point =  3.259856754208278\n",
      "probability of observing that point if it came from cluster 0 =  0.03646751065508985\n",
      "probability of observing that point if it came from cluster 1 =  1.2185207231829198e-13\n",
      "point =  8.842894108752482\n",
      "probability of observing that point if it came from cluster 0 =  1.5629056894765545e-08\n",
      "probability of observing that point if it came from cluster 1 =  0.4281600921165103\n",
      "point =  8.8926218004438\n",
      "probability of observing that point if it came from cluster 0 =  1.0088866702754277e-08\n",
      "probability of observing that point if it came from cluster 1 =  0.4008935205808284\n",
      "point =  4.603268332897948\n",
      "probability of observing that point if it came from cluster 0 =  0.5515114607293573\n",
      "probability of observing that point if it came from cluster 1 =  9.07610243621191e-08\n",
      "point =  4.763086080669089\n",
      "probability of observing that point if it came from cluster 0 =  0.5854625316097353\n",
      "probability of observing that point if it came from cluster 1 =  3.436467422880583e-07\n",
      "point =  5.869001012973493\n",
      "probability of observing that point if it came from cluster 0 =  0.19077534138337185\n",
      "probability of observing that point if it came from cluster 1 =  0.0006855151521227138\n",
      "point =  7.147047230205504\n",
      "probability of observing that point if it came from cluster 0 =  0.001849326983976448\n",
      "probability of observing that point if it came from cluster 1 =  0.13280197975913807\n",
      "point =  4.443819894473208\n",
      "probability of observing that point if it came from cluster 0 =  0.491395157071312\n",
      "probability of observing that point if it came from cluster 1 =  2.267360192221063e-08\n",
      "point =  5.388165880635526\n",
      "probability of observing that point if it came from cluster 0 =  0.43188073103042207\n",
      "probability of observing that point if it came from cluster 1 =  3.5631756802352745e-05\n",
      "5.648334896680342\n",
      "Probability of coming from C_1 = 0.9997266998773575\n",
      "Probability of coming from C_2 = 0.00027330012264250854\n",
      "\n",
      "3.259856754208278\n",
      "Probability of coming from C_1 = 0.999999999998568\n",
      "Probability of coming from C_2 = 1.4320230739543463e-12\n",
      "\n",
      "8.842894108752482\n",
      "Probability of coming from C_1 = 8.517327276992973e-08\n",
      "Probability of coming from C_2 = 0.9999999148267272\n",
      "\n",
      "8.8926218004438\n",
      "Probability of coming from C_1 = 5.8720548929462794e-08\n",
      "Probability of coming from C_2 = 0.999999941279451\n",
      "\n",
      "4.603268332897948\n",
      "Probability of coming from C_1 = 0.9999999294709504\n",
      "Probability of coming from C_2 = 7.05290495226142e-08\n",
      "\n",
      "4.763086080669089\n",
      "Probability of coming from C_1 = 0.9999997484431021\n",
      "Probability of coming from C_2 = 2.515568977792334e-07\n",
      "\n",
      "5.869001012973493\n",
      "Probability of coming from C_1 = 0.9984623774519183\n",
      "Probability of coming from C_2 = 0.0015376225480816103\n",
      "\n",
      "7.147047230205504\n",
      "Probability of coming from C_1 = 0.03147015980862639\n",
      "Probability of coming from C_2 = 0.9685298401913736\n",
      "\n",
      "4.443819894473208\n",
      "Probability of coming from C_1 = 0.9999999802251658\n",
      "Probability of coming from C_2 = 1.9774834234058904e-08\n",
      "\n",
      "5.388165880635526\n",
      "Probability of coming from C_1 = 0.9999646425230792\n",
      "Probability of coming from C_2 = 3.535747692092478e-05\n",
      "\n"
     ]
    }
   ],
   "source": [
    "from scipy.stats import norm\n",
    "\n",
    "prob_c0_x = [] # P(C_0 | X_i)\n",
    "prob_c1_x = [] # P(C_1 | X_i)\n",
    "prob_x = [] # P(X_i)\n",
    "\n",
    "k = 2\n",
    "\n",
    "for p in data:\n",
    "    print(\"point = \", p)\n",
    "    pdf_i = []\n",
    "\n",
    "    for j in range(k):\n",
    "        # P(X_i | C_j)\n",
    "        pdf_i.append(norm.pdf(p, mean[j], var[j]))\n",
    "        print(\"probability of observing that point if it came from cluster \" + str(j) + \" = \", pdf_i[j])\n",
    "        # P(C_j) already computed\n",
    "        prob_c[j]\n",
    "\n",
    "    # P(X_i) = P(C_0)P(X_i | C_0) + P(C_1)P(X_i | C_1)\n",
    "    prob_x = prob_c[0] * pdf_i[0] + prob_c[1] * pdf_i[1]\n",
    "\n",
    "    # P(C_j | X_i) = P(X_i | C_j)P(C_j) / P(X_i)\n",
    "    prob_c0_x.append( pdf_i[0]*prob_c[0]/prob_x )\n",
    "    prob_c1_x.append( pdf_i[1]*prob_c[1]/prob_x  )\n",
    "\n",
    "probs = zip(data, prob_c0_x, prob_c1_x)\n",
    "for p in probs:\n",
    "    print(p[0])\n",
    "    print(\"Probability of coming from C_1 = \" + str(p[1]))\n",
    "    print(\"Probability of coming from C_2 = \" + str(p[2]))\n",
    "    print()\n"
   ]
  },
  {
   "cell_type": "markdown",
   "metadata": {},
   "source": [
    "f) Having computed `P(C_j | X_i)`, update the estimates of `mean_j`, `var_j`, and `P(C_j)`. How different are these values from the original ones you got from K means? briefly comment."
   ]
  },
  {
   "cell_type": "code",
   "execution_count": 19,
   "metadata": {},
   "outputs": [
    {
     "name": "stdout",
     "output_type": "stream",
     "text": [
      "P(C_1) = 0.7029623681692589,  P(C_2) = 0.29703763183074106\n",
      "mean_1 = 4.8636590339588635,  mean_2 = 8.30480741281999\n",
      "var_1 = 4.890252282008565,  var_2 = 37.11836315516674\n"
     ]
    }
   ],
   "source": [
    "prob_c = [sum(prob_c0_x)/ len(prob_c0_x), sum(prob_c1_x)/ len(prob_c1_x) ]\n",
    "mean = [sum([x[0] * x[1] for x in zip(prob_c0_x, data)]) / sum(prob_c0_x), sum([x[0] * x[1] for x in zip(prob_c1_x, data)]) / sum(prob_c1_x) ]\n",
    "var = [sum(map(lambda x: x[0] * (x[1] - mean[0])**2, zip(prob_c0_x, data))) , sum(map(lambda x: x[0] * (x[1] - mean[0])**2, zip(prob_c1_x, data)))]\n",
    "\n",
    "print(\"P(C_1) = \" + str(prob_c[0]) + \",  P(C_2) = \" + str(prob_c[1]))\n",
    "print(\"mean_1 = \" + str(mean[0]) + \",  mean_2 = \" + str(mean[1]))\n",
    "print(\"var_1 = \" + str(var[0]) + \",  var_2 = \" + str(var[1]))"
   ]
  },
  {
   "cell_type": "markdown",
   "metadata": {},
   "source": [
    "It is so much diff since K means has so many limitation such as melting pot pts if data too close."
   ]
  },
  {
   "cell_type": "markdown",
   "metadata": {},
   "source": [
    "g) Update `P(C_j | X_i)`. Comment on any differences or lack thereof you observe."
   ]
  },
  {
   "cell_type": "code",
   "execution_count": 22,
   "metadata": {},
   "outputs": [
    {
     "name": "stdout",
     "output_type": "stream",
     "text": [
      "P(C_1|X_1) = 0.8706799090978479, P(C_2|X_1) = 0.12932009090215207\n",
      "P(C_1|X_2) = 0.8759615480135208, P(C_2|X_2) = 0.12403845198647921\n",
      "P(C_1|X_3) = 0.5645900548726468, P(C_2|X_3) = 0.4354099451273532\n",
      "P(C_1|X_4) = 0.5547420536843801, P(C_2|X_4) = 0.4452579463156198\n",
      "P(C_1|X_5) = 0.8862009447573287, P(C_2|X_5) = 0.1137990552426714\n",
      "P(C_1|X_6) = 0.8852195407327282, P(C_2|X_6) = 0.11478045926727166\n",
      "P(C_1|X_7) = 0.8642985553665211, P(C_2|X_7) = 0.13570144463347888\n",
      "P(C_1|X_8) = 0.7957348569009488, P(C_2|X_8) = 0.2042651430990512\n",
      "P(C_1|X_9) = 0.8867196367220757, P(C_2|X_9) = 0.11328036327792428\n",
      "P(C_1|X_10) = 0.8766779511324888, P(C_2|X_10) = 0.12332204886751119\n"
     ]
    }
   ],
   "source": [
    "# Update P(C_j)\n",
    "prob_c = [sum(prob_c0_x) / len(prob_c0_x), sum(prob_c1_x) / len(prob_c1_x)]\n",
    "\n",
    "# Update P(X_i | C_j)\n",
    "prob_x_c = []\n",
    "for j in range(k):\n",
    "    prob_x_c_j = [1 / np.sqrt(2*np.pi*var[j]) * np.exp(-1/2*((x-mean[j])/np.sqrt(var[j]))**2) for x in data]\n",
    "    prob_x_c.append(prob_x_c_j)\n",
    "\n",
    "# Update P(C_j | X_i)\n",
    "prob_c_x = [[prob_x_c[j][i] * prob_c[j] / sum([prob_x_c[l][i] * prob_c[l] for l in range(k)]) for j in range(k)] for i in range(len(data))]\n",
    "\n",
    "# Print results\n",
    "for i in range(len(data)):\n",
    "    print(f\"P(C_1|X_{i+1}) = {prob_c_x[i][0]}, P(C_2|X_{i+1}) = {prob_c_x[i][1]}\")\n"
   ]
  },
  {
   "cell_type": "markdown",
   "metadata": {},
   "source": [
    "This gives the updated probability of each data point belonging to each mixture component, which can be used in the E-step of the EM algorithm."
   ]
  },
  {
   "cell_type": "markdown",
   "metadata": {},
   "source": [
    "h) Use `P(C_j | X_i)` to create a hard assignment - label each point as belonging to a specific cluster (0 or 1)"
   ]
  },
  {
   "cell_type": "code",
   "execution_count": 24,
   "metadata": {},
   "outputs": [
    {
     "name": "stdout",
     "output_type": "stream",
     "text": [
      "[8 3]\n"
     ]
    }
   ],
   "source": [
    "hard_assignment = np.argmax(prob_c_x, axis=0)\n",
    "print(hard_assignment)"
   ]
  },
  {
   "cell_type": "markdown",
   "metadata": {},
   "source": [
    "### Clustering Aggregation\n",
    "\n",
    "| Point | C | P |\n",
    "|-------|---|---|\n",
    "| A     | 0 | a |\n",
    "| B     | 0 | b |\n",
    "| C     | 2 | b |\n",
    "| D     | 1 | c |\n",
    "| E     | 1 | d |\n",
    "\n",
    "a) Fill in the following table where for each pair of points determine whether C and P agree or disagree on how to cluster that pair."
   ]
  },
  {
   "cell_type": "markdown",
   "metadata": {},
   "source": [
    "| Pair | Disagreement |\n",
    "|------|--------------|\n",
    "| A  B |      ?       |\n",
    "| A  C |      ?       |\n",
    "| A  D |      ?       |\n",
    "| A  E |      ?       |\n",
    "| B  C |      ?       |\n",
    "| B  D |      ?       |\n",
    "| B  E |      ?       |\n",
    "| C  D |      ?       |\n",
    "| C  E |      ?       |\n",
    "| D  E |      ?       |\n"
   ]
  },
  {
   "cell_type": "markdown",
   "metadata": {},
   "source": [
    "As datasets become very large, this process can become computationally challenging.\n",
    "\n",
    "b) Given N points, what is the formula for the number of unique pairs of points one can create?"
   ]
  },
  {
   "cell_type": "markdown",
   "metadata": {},
   "source": []
  },
  {
   "cell_type": "markdown",
   "metadata": {},
   "source": [
    "Assume that clustering C clusters all points in the same cluster and clustering P clusters points as such:\n",
    "\n",
    "| Point | P |\n",
    "|-------|---|\n",
    "| A     | 0 |\n",
    "| B     | 0 |\n",
    "| C     | 0 |\n",
    "| D     | 1 |\n",
    "| E     | 1 |\n",
    "| F     | 2 |\n",
    "| G     | 2 |\n",
    "| H     | 2 |\n",
    "| I     | 2 |\n",
    "\n",
    "c) What is the maximum number of disagreements there could be for a dataset of this size? (use the formula from b)?"
   ]
  },
  {
   "cell_type": "markdown",
   "metadata": {},
   "source": []
  },
  {
   "cell_type": "markdown",
   "metadata": {},
   "source": [
    "d) If we look at cluster 0. There are (3 x 2) / 2 = 3 pairs that agree with C (since all points in C are in the same cluster). For each cluster, determine how many agreements there are. How many total agreements are there? How many disagreements does that mean there are between C and P?"
   ]
  },
  {
   "cell_type": "markdown",
   "metadata": {},
   "source": []
  },
  {
   "cell_type": "markdown",
   "metadata": {},
   "source": [
    "e) Assuming that filtering the dataset by cluster number is a computationally easy operation, describe an algorithm inspired by the above process that can efficiently compute disagreement distances on large datasets."
   ]
  },
  {
   "cell_type": "markdown",
   "metadata": {},
   "source": []
  }
 ],
 "metadata": {
  "interpreter": {
   "hash": "76ca05dc3ea24b2e3b98cdb7774adfbb40773424bf5109b477fd793f623715af"
  },
  "kernelspec": {
   "display_name": "Python 3 (ipykernel)",
   "language": "python",
   "name": "python3"
  },
  "language_info": {
   "codemirror_mode": {
    "name": "ipython",
    "version": 3
   },
   "file_extension": ".py",
   "mimetype": "text/x-python",
   "name": "python",
   "nbconvert_exporter": "python",
   "pygments_lexer": "ipython3",
   "version": "3.7.13"
  }
 },
 "nbformat": 4,
 "nbformat_minor": 2
}
